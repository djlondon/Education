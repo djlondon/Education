{
 "cells": [
  {
   "cell_type": "markdown",
   "metadata": {},
   "source": [
    "# 1 Arrays and Strings"
   ]
  },
  {
   "cell_type": "markdown",
   "metadata": {},
   "source": [
    "## 1.1"
   ]
  },
  {
   "cell_type": "code",
   "execution_count": 20,
   "metadata": {},
   "outputs": [
    {
     "name": "stdout",
     "output_type": "stream",
     "text": [
      "False True True True\n"
     ]
    }
   ],
   "source": [
    "def isUnique(string):\n",
    "    seenChars = {}\n",
    "    for char in string:\n",
    "        if char in seenChars:\n",
    "            return False\n",
    "        seenChars[char] = 1\n",
    "    return True\n",
    "\n",
    "a = isUnique('cac')\n",
    "b = isUnique('car')\n",
    "c = isUnique('')\n",
    "d = isUnique('a')\n",
    "print(a, b, c, d)"
   ]
  },
  {
   "cell_type": "markdown",
   "metadata": {},
   "source": [
    "## 1.2"
   ]
  },
  {
   "cell_type": "code",
   "execution_count": 23,
   "metadata": {},
   "outputs": [
    {
     "name": "stdout",
     "output_type": "stream",
     "text": [
      "True True True False False True\n"
     ]
    }
   ],
   "source": [
    "def checkPerm(string1, string2):\n",
    "    if (len(string1) != len(string2)):\n",
    "        return False\n",
    "    characters = {}\n",
    "    for char in string1:\n",
    "        try:\n",
    "            characters[char] += 1\n",
    "        except:\n",
    "            characters[char] = 1\n",
    "        \n",
    "    for char in string2:\n",
    "        try:\n",
    "            if (characters[char] >= 1):\n",
    "                characters[char] -= 1\n",
    "        except:\n",
    "            return False\n",
    "    return True\n",
    "\n",
    "a = checkPerm('dog', 'dog')\n",
    "b = checkPerm('dog', 'god')\n",
    "c = checkPerm('', '')\n",
    "d = checkPerm('', 'a')\n",
    "e = checkPerm('cat', 'car')\n",
    "f = checkPerm('dod', 'dod')\n",
    "print(a, b, c, d, e, f)"
   ]
  },
  {
   "cell_type": "markdown",
   "metadata": {},
   "source": [
    "## 1.3"
   ]
  },
  {
   "cell_type": "code",
   "execution_count": 23,
   "metadata": {
    "scrolled": true
   },
   "outputs": [
    {
     "name": "stdout",
     "output_type": "stream",
     "text": [
      "M r % 2 0 J o h n % 2 0 S m i t h\n",
      "% 2 0 M r % 2 0 J o h n % 2 0 S m i t h\n",
      "M r % 2 0 J o h n % 2 0 S m i t h % 2 0\n"
     ]
    }
   ],
   "source": [
    "def URLify(string):\n",
    "    mapNoPrevSpaces = {}\n",
    "    noPrevSpaces = 0\n",
    "    finalIndex = len(string)-1\n",
    "    \n",
    "    for i in range(finalIndex+1):\n",
    "        mapNoPrevSpaces[i] = noPrevSpaces\n",
    "        if (string[i] == ' '):\n",
    "            noPrevSpaces+= 1\n",
    "            string.append(' ')\n",
    "            string.append(' ')\n",
    "    for i in range(finalIndex, 0, -1): \n",
    "        string[i+2*mapNoPrevSpaces[i]] = string[i]\n",
    "    for i, char in enumerate(string):\n",
    "        if (char == \" \"):\n",
    "            string[i] = \"%\"\n",
    "            string[i+1] = \"2\"\n",
    "            string[i+2] = \"0\"\n",
    "            \n",
    "string = ['M','r',' ','J','o','h','n',' ','S','m','i','t','h']\n",
    "string1 = [' ','M','r',' ','J','o','h','n',' ','S','m','i','t','h']\n",
    "string2 = ['M','r',' ','J','o','h','n',' ','S','m','i','t','h', ' ']\n",
    "URLify(string)\n",
    "URLify(string1)\n",
    "URLify(string2)\n",
    "\n",
    "print(*string)\n",
    "print(*string1)\n",
    "print(*string2)"
   ]
  },
  {
   "cell_type": "markdown",
   "metadata": {},
   "source": [
    "## 1.4"
   ]
  },
  {
   "cell_type": "code",
   "execution_count": 5,
   "metadata": {},
   "outputs": [
    {
     "name": "stdout",
     "output_type": "stream",
     "text": [
      "True True True False True\n"
     ]
    }
   ],
   "source": [
    "def palPerm(string):\n",
    "    characterTally = {}\n",
    "    for char in string:\n",
    "        if (char != \" \"):\n",
    "            try:\n",
    "                characterTally[char.lower()] += 1\n",
    "            except KeyError:\n",
    "                characterTally[char.lower()] = 1\n",
    "    noSingleChars = 0\n",
    "    for key in characterTally:\n",
    "        if characterTally[key] == 1:\n",
    "            noSingleChars += 1\n",
    "        if noSingleChars > 1:\n",
    "            return False\n",
    "    return True\n",
    "\n",
    "print(palPerm('Tact coa'), palPerm(''), palPerm('a'), palPerm('ab'), palPerm('ab a'))"
   ]
  },
  {
   "cell_type": "markdown",
   "metadata": {},
   "source": [
    "## 1.5"
   ]
  },
  {
   "cell_type": "code",
   "execution_count": 32,
   "metadata": {},
   "outputs": [
    {
     "name": "stdout",
     "output_type": "stream",
     "text": [
      "True True True False False\n"
     ]
    }
   ],
   "source": [
    "def countEdits(longstring, shortstring):\n",
    "    noEdits = 0\n",
    "    i = 0\n",
    "    j = 0\n",
    "    while (i < len(shortstring)):\n",
    "        skip = 0\n",
    "        if (longstring[j] != shortstring[i]):\n",
    "            if (longstring[j+1] == shortstring[i]):\n",
    "                skip = 1\n",
    "            noEdits+= 1\n",
    "        if noEdits > 1:\n",
    "            return False\n",
    "        i+= 1\n",
    "        j+= 1 + skip\n",
    "    return True\n",
    "        \n",
    "def oneAway(string1, string2):\n",
    "    delta = len(string1) - len(string2)\n",
    "    if abs(delta) > 1:\n",
    "        ret = False\n",
    "    elif (delta < 0):\n",
    "        ret = countEdits(string2, string1) \n",
    "    else:\n",
    "        ret = countEdits(string1, string2)\n",
    "    return ret\n",
    "        \n",
    "a = oneAway('pale', 'ple')\n",
    "b = oneAway('pales', 'pale')\n",
    "c = oneAway('pale', 'bale')\n",
    "d = oneAway('pale', 'bake')\n",
    "e = oneAway('pale', 'paless')\n",
    "print(a, b, c, d, e)"
   ]
  },
  {
   "cell_type": "markdown",
   "metadata": {},
   "source": [
    "## 1.6"
   ]
  },
  {
   "cell_type": "code",
   "execution_count": 19,
   "metadata": {},
   "outputs": [
    {
     "data": {
      "text/plain": [
       "'a3b2'"
      ]
     },
     "execution_count": 19,
     "metadata": {},
     "output_type": "execute_result"
    }
   ],
   "source": [
    "def stringComp(string):\n",
    "    newlist = []\n",
    "    i = 0\n",
    "    while i < len(string):\n",
    "        count = 0\n",
    "        while (string[i]==string[i+count]):\n",
    "            count+= 1\n",
    "            if (i+count>=len(string)):\n",
    "                break\n",
    "        newlist.append(string[i] + str(count))\n",
    "        i += count\n",
    "    newstring = ''.join(newlist)\n",
    "    if len(newstring) < len(string):\n",
    "        return newstring\n",
    "    return string\n",
    "\n",
    "stringComp('aabbbcc')\n",
    "stringComp('aabbbc')\n",
    "stringComp('aaa')\n",
    "stringComp('aaabb')"
   ]
  },
  {
   "cell_type": "markdown",
   "metadata": {},
   "source": [
    "## 1.7"
   ]
  },
  {
   "cell_type": "code",
   "execution_count": 5,
   "metadata": {},
   "outputs": [
    {
     "name": "stdout",
     "output_type": "stream",
     "text": [
      "[[7, 4, 1], [8, 5, 2], [9, 6, 3]]\n"
     ]
    }
   ],
   "source": [
    "matrix = [[1,2,3],[4,5,6],[7,8,9]]\n",
    "\n",
    "def rotateMatrix(matrix):\n",
    "    n = len(matrix)\n",
    "    for layer in range(n//2):\n",
    "        first = layer\n",
    "        last = n - 1 - layer\n",
    "        for i in range(first,last):\n",
    "            offset = i - first\n",
    "            top = matrix[first][i] # store top\n",
    "            matrix[first][i]=matrix[last-offset][first] # left->top\n",
    "            matrix[last-offset][first]=matrix[last][last-offset] #bottom->left\n",
    "            matrix[last][last-offset]=matrix[i][last] # right->bottom\n",
    "            matrix[i][last]= top # top->right\n",
    "    print(matrix)\n",
    "    \n",
    "rotateMatrix(matrix)"
   ]
  },
  {
   "cell_type": "markdown",
   "metadata": {},
   "source": [
    "## 1.8"
   ]
  },
  {
   "cell_type": "code",
   "execution_count": 26,
   "metadata": {},
   "outputs": [
    {
     "name": "stdout",
     "output_type": "stream",
     "text": [
      "[[1, 0], [3, 0], [0, 0]]\n",
      "[[0, 0, 0], [3, 0, 0], [0, 0, 0]]\n"
     ]
    }
   ],
   "source": [
    "def zeroMatrix(matrix):\n",
    "    n = len(matrix[0])\n",
    "    m = len(matrix)\n",
    "    zerorows = set()\n",
    "    zerocols = set()\n",
    "    for i in range(n):\n",
    "        for j in range(m):\n",
    "            if (matrix[j][i] == 0):\n",
    "                zerorows.add(i)\n",
    "                zerocols.add(j)\n",
    "    for p in zerorows:\n",
    "        for q in range(n):\n",
    "            matrix[q][p] = 0\n",
    "    for p in zerocols:\n",
    "        for q in range(n):\n",
    "            matrix[p][q] = 0\n",
    "    print(matrix)\n",
    "            \n",
    "matrix1 = [[1,2],[3,4],[5,0]]            \n",
    "zeroMatrix(matrix1)\n",
    "\n",
    "matrix2 = [[1,2,0],[3,4,3],[5,0,0]]            \n",
    "zeroMatrix(matrix2)"
   ]
  },
  {
   "cell_type": "markdown",
   "metadata": {},
   "source": [
    "## 1.9"
   ]
  },
  {
   "cell_type": "code",
   "execution_count": 18,
   "metadata": {},
   "outputs": [
    {
     "name": "stdout",
     "output_type": "stream",
     "text": [
      "True False True\n"
     ]
    }
   ],
   "source": [
    "def isSubstring(s1, s2):\n",
    "    if s1 in s2:\n",
    "        return True\n",
    "    if s2 in s1:\n",
    "        return True\n",
    "    return False\n",
    "\n",
    "def isStringRotation(s1, s2):\n",
    "    if len(s1) != len(s2):\n",
    "        return False\n",
    "    s1 += s1\n",
    "    return isSubstring(s1, s2)\n",
    "    \n",
    "a = isStringRotation(\"waterbottle\", \"erbottlewat\")\n",
    "b = isStringRotation(\"dog\", \"god\")\n",
    "c = isStringRotation(\"waterbottle\", \"waterbottle\")\n",
    "\n",
    "print(a, b, c)"
   ]
  },
  {
   "cell_type": "markdown",
   "metadata": {},
   "source": [
    "# 2 Linked Lists"
   ]
  },
  {
   "cell_type": "markdown",
   "metadata": {},
   "source": [
    "This is the class we use for these problems. Since, the solutions are provided in seperate blocks, the slightly hacky `setattr()` method is used to turn these procedures into methods for the Node class."
   ]
  },
  {
   "cell_type": "code",
   "execution_count": 4,
   "metadata": {},
   "outputs": [],
   "source": [
    "class List:\n",
    "    def __init__(self, node=None):\n",
    "        self.head = node\n",
    "    def append(self, d):\n",
    "        self.head.append(d)\n",
    "    \n",
    "class Node:\n",
    "    def __init__(self,val=None):\n",
    "        self.val = val\n",
    "        self.next = None\n",
    "    def __str__(self):\n",
    "        return str(self.val)\n",
    "    def append(self, d):\n",
    "        end = d\n",
    "        if type(d) != Node:\n",
    "            end = Node(d)            \n",
    "        n = self\n",
    "        while (n.next != None):\n",
    "            n = n.next\n",
    "        n.next = end        \n",
    "    def traverse(self):\n",
    "        node = self\n",
    "        vals = []\n",
    "        while node != None:\n",
    "            vals.append(node.val)\n",
    "#             print(node.val, end= ',')\n",
    "            node = node.next\n",
    "        return vals"
   ]
  },
  {
   "cell_type": "markdown",
   "metadata": {},
   "source": [
    "## 2.1"
   ]
  },
  {
   "cell_type": "code",
   "execution_count": 5,
   "metadata": {},
   "outputs": [
    {
     "name": "stdout",
     "output_type": "stream",
     "text": [
      "[3, 5, 2, 3, 2, 5, 2]\n",
      "\n",
      "\n",
      "[3, 5, 2]\n"
     ]
    }
   ],
   "source": [
    "def deleteDuplicates(self):\n",
    "    current = self\n",
    "    prev = self\n",
    "    values = set()\n",
    "    while (prev.next != None):\n",
    "        if current.val in values:\n",
    "            prev.next = current.next\n",
    "            current = prev.next\n",
    "        else:\n",
    "            values.add(current.val)\n",
    "            prev = current\n",
    "            current = current.next\n",
    "\n",
    "setattr(Node, 'deleteDuplicates', deleteDuplicates)\n",
    "\n",
    "# Fix\n",
    "def deleteDuplicatesNoBuffer(self):\n",
    "    current = self\n",
    "    compare = self\n",
    "    while (current.next != None):\n",
    "        while (compare.next != None):\n",
    "            while (compare.next.val == current.val):\n",
    "                compare.next = compare.next.next\n",
    "            compare = compare.next\n",
    "        current = current.next\n",
    "        compare = current\n",
    "\n",
    "setattr(Node, 'deleteDuplicatesNoBuffer', deleteDuplicatesNoBuffer)\n",
    "\n",
    "list = Node(3)\n",
    "list.append(5)\n",
    "list.append(2)\n",
    "list.append(3)\n",
    "list.append(2)\n",
    "list.append(5)\n",
    "list.append(2)\n",
    "\n",
    "print(list.traverse())\n",
    "print (\"\\n\")\n",
    "list.deleteDuplicates()\n",
    "print(list.traverse())"
   ]
  },
  {
   "cell_type": "markdown",
   "metadata": {},
   "source": [
    "## 2.2"
   ]
  },
  {
   "cell_type": "code",
   "execution_count": 6,
   "metadata": {},
   "outputs": [
    {
     "name": "stdout",
     "output_type": "stream",
     "text": [
      "[0, 1, 2, 3, 4, 5, 6]\n"
     ]
    },
    {
     "data": {
      "text/plain": [
       "[3, 4, 5, 6]"
      ]
     },
     "execution_count": 6,
     "metadata": {},
     "output_type": "execute_result"
    }
   ],
   "source": [
    "list = Node(0)\n",
    "list.append(1)\n",
    "list.append(2)\n",
    "list.append(3)\n",
    "list.append(4)\n",
    "list.append(5)\n",
    "list.append(6)\n",
    "\n",
    "def kthToLast(self, k):\n",
    "    current = self\n",
    "    i=0\n",
    "    while (i < k):\n",
    "        if current.next == None:\n",
    "            return None\n",
    "        current = current.next\n",
    "        i+= 1\n",
    "    return current.traverse()\n",
    "\n",
    "setattr(Node, 'kthToLast', kthToLast)\n",
    "\n",
    "print(list.traverse())\n",
    "list.kthToLast(3)"
   ]
  },
  {
   "cell_type": "markdown",
   "metadata": {},
   "source": [
    "## 2.3"
   ]
  },
  {
   "cell_type": "code",
   "execution_count": 7,
   "metadata": {},
   "outputs": [
    {
     "data": {
      "text/plain": [
       "[0, 1, 3, 4, 5, 6]"
      ]
     },
     "execution_count": 7,
     "metadata": {},
     "output_type": "execute_result"
    }
   ],
   "source": [
    "def deleteMiddleNode(node):\n",
    "    while node.next != None:\n",
    "        node.val = node.next.val\n",
    "        if node.next.next != None:\n",
    "            node = node.next\n",
    "        else:   \n",
    "            break\n",
    "    node.next = None\n",
    "    \n",
    "list = Node(0)\n",
    "list.append(1)\n",
    "list.append(2)\n",
    "list.append(3)\n",
    "list.append(4)\n",
    "list.append(5)\n",
    "list.append(6)\n",
    "\n",
    "node = list.next.next #s 2\n",
    "deleteMiddleNode(node)\n",
    "list.traverse()"
   ]
  },
  {
   "cell_type": "markdown",
   "metadata": {},
   "source": [
    "## 2.4"
   ]
  },
  {
   "cell_type": "code",
   "execution_count": 30,
   "metadata": {
    "scrolled": true
   },
   "outputs": [
    {
     "name": "stdout",
     "output_type": "stream",
     "text": [
      "[3, 5, 8, 5, 10, 2, 1]\n",
      "[3, 2, 1, 5, 8, 5, 10]\n"
     ]
    }
   ],
   "source": [
    "def partition(node, partition):\n",
    "    lt_head = Node()\n",
    "    lt = lt_head\n",
    "    gte_head = Node()\n",
    "    gte = gte_head    \n",
    "    i = 0\n",
    "    while node != None:\n",
    "        if node.val < partition:\n",
    "            if lt.val != None:\n",
    "                nextN = Node(node.val)\n",
    "                lt.next = nextN\n",
    "                lt = lt.next\n",
    "            else:\n",
    "                lt.val = node.val\n",
    "        else:\n",
    "            if gte.val != None:\n",
    "                nextN = Node(node.val)\n",
    "                gte.next = nextN\n",
    "                gte = gte.next\n",
    "            else:\n",
    "                gte.val = node.val\n",
    "        node = node.next\n",
    "    lt.next = gte_head\n",
    "    return lt_head\n",
    "\n",
    "list = Node(3)\n",
    "list.append(5)\n",
    "list.append(8)\n",
    "list.append(5)\n",
    "list.append(10)\n",
    "list.append(2)\n",
    "list.append(1)\n",
    "print(list.traverse())\n",
    "\n",
    "newlist = partition(list, 5)\n",
    "print(newlist.traverse())"
   ]
  },
  {
   "cell_type": "markdown",
   "metadata": {},
   "source": [
    "## 2.5"
   ]
  },
  {
   "cell_type": "code",
   "execution_count": 75,
   "metadata": {},
   "outputs": [
    {
     "name": "stdout",
     "output_type": "stream",
     "text": [
      "[5, 6, 4, 1]\n"
     ]
    }
   ],
   "source": [
    "def valOrZero(node):\n",
    "    if node == None:\n",
    "        return 0 \n",
    "    else:\n",
    "        return node.val\n",
    "    \n",
    "def update(node):\n",
    "    if node != None:\n",
    "        return node.next\n",
    "\n",
    "def sumLists(list1, list2):\n",
    "    out_head = Node()\n",
    "    out = out_head    \n",
    "    carry = 0\n",
    "    while (list1 != None or list2 != None or carry != 0):\n",
    "        out_sum = total_sum = valOrZero(list1) + valOrZero(list2) + carry\n",
    "        carry = 0\n",
    "        if total_sum >= 10:            \n",
    "            out_sum = total_sum % 10\n",
    "            carry = 1\n",
    "        if out.val != None:\n",
    "            out.next = Node(out_sum)\n",
    "            out = out.next\n",
    "        else:\n",
    "            out.val = out_sum\n",
    "        list1 = update(list1)\n",
    "        list2 = update(list2)\n",
    "    return out_head\n",
    "# 879\n",
    "list1 = Node(9)\n",
    "list1.append(7)\n",
    "list1.append(8)       \n",
    "# 568    \n",
    "list2 = Node(6)\n",
    "list2.append(8)\n",
    "list2.append(5)\n",
    "\n",
    "print(sumLists(list1, list2).traverse())"
   ]
  },
  {
   "cell_type": "markdown",
   "metadata": {},
   "source": [
    "## 2.6"
   ]
  },
  {
   "cell_type": "code",
   "execution_count": 81,
   "metadata": {},
   "outputs": [
    {
     "name": "stdout",
     "output_type": "stream",
     "text": [
      "<class '__main__.Node'>\n"
     ]
    },
    {
     "data": {
      "text/plain": [
       "False"
      ]
     },
     "execution_count": 81,
     "metadata": {},
     "output_type": "execute_result"
    }
   ],
   "source": [
    "def isPalindrome(node, length):\n",
    "    stack = MyStack()\n",
    "    i = 0\n",
    "    while node != None:\n",
    "        if i == (length-1) / 2:\n",
    "            pass\n",
    "        elif i <= (length-1) // 2:\n",
    "            stack.push(node.val)\n",
    "        else:\n",
    "            if node.val != stack.pop():\n",
    "                return False\n",
    "        i += 1\n",
    "        node = node.next\n",
    "    return True\n",
    "\n",
    "list1 = Node('c')\n",
    "list1.append('a')\n",
    "list1.append('t') \n",
    "list1.append('a') \n",
    "list1.append('c') \n",
    "\n",
    "isPalindrome(list1, 4)"
   ]
  },
  {
   "cell_type": "markdown",
   "metadata": {},
   "source": [
    "## 2.7"
   ]
  },
  {
   "cell_type": "code",
   "execution_count": 5,
   "metadata": {},
   "outputs": [
    {
     "name": "stdout",
     "output_type": "stream",
     "text": [
      "[1, 2, 5, 6]\n",
      "[3, 4, 5, 6]\n"
     ]
    },
    {
     "data": {
      "text/plain": [
       "True"
      ]
     },
     "execution_count": 5,
     "metadata": {},
     "output_type": "execute_result"
    }
   ],
   "source": [
    "def listToLinkedList(list):\n",
    "    out = Node(list[0])\n",
    "    for item in list[1:]:\n",
    "        out.append(item)\n",
    "    return out\n",
    "\n",
    "def findIntersect(list1, list2, method=1):\n",
    "    def method1(list1, list2):\n",
    "        # O(A+B)\n",
    "        nodes = set() # O(A) space...\n",
    "        # O(A)\n",
    "        while list1 != None:\n",
    "            nodes.add(list1)\n",
    "            list1 = list1.next\n",
    "        # O(B)\n",
    "        while list2 != None:\n",
    "            if list2 in nodes:\n",
    "                return list2\n",
    "            list2 = list2.next\n",
    "        return False\n",
    "    def method2(list1, list2):\n",
    "        len_list1 = len_list2 = 0\n",
    "        while list1 != None or list2 != None:\n",
    "            end_list1 = list1\n",
    "            end_list2 = list2\n",
    "            if list1 != None:\n",
    "                list1 = list1.next\n",
    "                len_list1 += 1\n",
    "            if list2 != None:\n",
    "                list2 = list2.next\n",
    "                len_list2 += 1\n",
    "        if end_list1 != end_list2:\n",
    "            return False\n",
    "#         if len_list1 > \n",
    "        \n",
    "        return True\n",
    "    if method == 1:\n",
    "        return method1(list1, list2)\n",
    "    else:\n",
    "        return method2(list1, list2)\n",
    "\n",
    "        \n",
    "list1 = listToLinkedList([1, 2, 5, 6])\n",
    "list2 = listToLinkedList([3, 4])\n",
    "list2.append(list1.next.next)\n",
    "print(list1.traverse())\n",
    "print(list2.traverse())\n",
    "\n",
    "findIntersect(list1, list2, 2)\n",
    "# print((findIntersect(list1, list2, 2)).val)"
   ]
  },
  {
   "cell_type": "markdown",
   "metadata": {},
   "source": [
    "## 2.8"
   ]
  },
  {
   "cell_type": "code",
   "execution_count": 12,
   "metadata": {},
   "outputs": [
    {
     "name": "stdout",
     "output_type": "stream",
     "text": [
      "C\n",
      "A\n"
     ]
    }
   ],
   "source": [
    "def loopDetector(node):\n",
    "    nodes = set() # O(n) space\n",
    "    while node != None:  # O(n) time\n",
    "        if node in nodes:\n",
    "            return node\n",
    "        else: \n",
    "            nodes.add(node)\n",
    "        node = node.next\n",
    "        \n",
    "list1 = listToLinkedList(['A', 'B', 'C', 'D', 'E'])\n",
    "list1.append(list1.next.next)\n",
    "print(loopDetector(list1))\n",
    "list2 = Node('A')\n",
    "list2.append(list2)\n",
    "print(loopDetector(list2))"
   ]
  },
  {
   "cell_type": "code",
   "execution_count": 23,
   "metadata": {},
   "outputs": [
    {
     "data": {
      "text/plain": [
       "39916800"
      ]
     },
     "execution_count": 23,
     "metadata": {},
     "output_type": "execute_result"
    }
   ],
   "source": [
    "def fact(n):\n",
    "    if n < 0:\n",
    "        return 'n ≥ 0'\n",
    "    if n == 0:\n",
    "        return 1\n",
    "    else:\n",
    "        return n*fact(n-1)\n",
    "    \n",
    "fact(-5)\n",
    "\n",
    "def frogJump(noFeet):\n",
    "    if noFeet == 1:\n",
    "        return 1\n",
    "    else:\n",
    "        return noFeet*frogJump(noFeet-1)\n",
    "    \n",
    "frogJump(11)"
   ]
  },
  {
   "cell_type": "markdown",
   "metadata": {},
   "source": [
    "# Stacks and Queues"
   ]
  },
  {
   "cell_type": "code",
   "execution_count": 51,
   "metadata": {},
   "outputs": [
    {
     "name": "stdout",
     "output_type": "stream",
     "text": [
      "False\n",
      "9\n",
      "3\n",
      "5\n",
      "5\n"
     ]
    },
    {
     "data": {
      "text/plain": [
       "True"
      ]
     },
     "execution_count": 51,
     "metadata": {},
     "output_type": "execute_result"
    }
   ],
   "source": [
    "from collections import deque\n",
    "\n",
    "class MyStack:\n",
    "    def __init__(self):\n",
    "        self.myStack = deque()\n",
    "    def pop(self):\n",
    "        return self.myStack.pop()\n",
    "    def push(self, item):\n",
    "        self.myStack.append(item)\n",
    "    def peek(self):\n",
    "        val = self.pop()\n",
    "        self.push(val)\n",
    "        return val\n",
    "    def isEmpty(self):\n",
    "        return False if self.myStack else True\n",
    "\n",
    "mystack = MyStack()\n",
    "mystack.push(5)\n",
    "mystack.push(3)\n",
    "mystack.push(9)\n",
    "print(mystack.isEmpty())\n",
    "print(mystack.pop())\n",
    "print(mystack.pop())\n",
    "print(mystack.peek())\n",
    "print(mystack.pop())\n",
    "mystack.isEmpty()"
   ]
  },
  {
   "cell_type": "code",
   "execution_count": 51,
   "metadata": {
    "scrolled": true
   },
   "outputs": [
    {
     "name": "stdout",
     "output_type": "stream",
     "text": [
      "False\n",
      "3\n"
     ]
    },
    {
     "data": {
      "text/plain": [
       "True"
      ]
     },
     "execution_count": 51,
     "metadata": {},
     "output_type": "execute_result"
    }
   ],
   "source": [
    "class MyQueue:\n",
    "    def __init__(self):\n",
    "        self.length = 0\n",
    "        self.head = None\n",
    "        \n",
    "    def add(self,item):\n",
    "        node = Node(item)\n",
    "        if self.head == None:\n",
    "            self.head = node\n",
    "        else:\n",
    "            last = self.head\n",
    "            while last.next:\n",
    "                last = last.next\n",
    "            last.next = node\n",
    "        self.length += 1\n",
    "        \n",
    "    def remove(self):\n",
    "        item = self.head.val\n",
    "        self.head = self.head.next\n",
    "        self.length -= 1\n",
    "        return item\n",
    "    \n",
    "    def peek(self):\n",
    "        return self.head\n",
    "    \n",
    "    def isEmpty(self):\n",
    "        return (self.length == 0)\n",
    "    \n",
    "myqueue = MyQueue()\n",
    "myqueue.add(4)\n",
    "myqueue.add(3)\n",
    "myqueue.add(5)\n",
    "print(myqueue.isEmpty())\n",
    "myqueue.remove()\n",
    "print(myqueue.peek())\n",
    "myqueue.remove()\n",
    "myqueue.remove()\n",
    "myqueue.isEmpty()"
   ]
  },
  {
   "cell_type": "markdown",
   "metadata": {},
   "source": [
    "## 3.1"
   ]
  },
  {
   "cell_type": "code",
   "execution_count": null,
   "metadata": {},
   "outputs": [],
   "source": [
    "import array as arr\n",
    "\n",
    "class nStacks:\n",
    "    def __init__(self, length, no_stacks):\n",
    "        if length < no_stacks: return 'More stacks than space in array'\n",
    "        self.stacks = {}\n",
    "        self.array = [None] * length\n",
    "        for i in range no_stacks:\n",
    "            self.stacks[i] = (i*length)-1\n",
    "    def checkIndex(self, index):\n",
    "        if stack > 0 and stack < 4 :\n",
    "            return True\n",
    "        return False\n",
    "    def push(self, stack, item):\n",
    "        if self.checkIndex(stack):\n",
    "            self.array[stack] = item\n",
    "                \n",
    "        "
   ]
  },
  {
   "cell_type": "markdown",
   "metadata": {},
   "source": [
    "## 3.2"
   ]
  },
  {
   "cell_type": "code",
   "execution_count": 2,
   "metadata": {},
   "outputs": [],
   "source": [
    "from collections import deque\n",
    "\n",
    "class StackNode:\n",
    "    def __init__(self, item, minsubstack=None):\n",
    "        self.item = item\n",
    "        self.top = self.item\n",
    "        self.minsubstack = minsubstack\n",
    "\n",
    "class MyStack:\n",
    "    def __init__(self):\n",
    "        self.myStack = deque()\n",
    "    def pop(self):\n",
    "        return self.myStack.pop()\n",
    "    def push(self, item):\n",
    "        minsubstack = item\n",
    "        if not self.isEmpty():\n",
    "            if item > self.minimum():\n",
    "                minsubstack = self.minimum()\n",
    "        node = StackNode(item, minsubstack)\n",
    "        self.myStack.append(node)\n",
    "    def minimum(self):\n",
    "        return (self.peek()).minsubstack\n",
    "    def peek(self):\n",
    "        val = self.pop()\n",
    "        self.push(val)\n",
    "        return self.top\n",
    "    def isEmpty(self):\n",
    "        return False if self.myStack else True\n",
    "    \n",
    "# mystack = MyStack()\n",
    "# mystack.push(5)\n",
    "# mystack.push(3)\n",
    "# mystack.push(9)\n",
    "# mystack.minimum()"
   ]
  },
  {
   "cell_type": "markdown",
   "metadata": {},
   "source": [
    "# Bit Manipulation"
   ]
  },
  {
   "cell_type": "code",
   "execution_count": 36,
   "metadata": {},
   "outputs": [
    {
     "data": {
      "text/plain": [
       "[1, 0, 0]"
      ]
     },
     "execution_count": 36,
     "metadata": {},
     "output_type": "execute_result"
    }
   ],
   "source": [
    "def unsigned_decimal_to_binary(numInDec):\n",
    "    # euler\n",
    "    dividend = numInDec\n",
    "    quotient = 1\n",
    "    result = []\n",
    "    while (quotient != 0):\n",
    "        remainder = dividend % 2\n",
    "        quotient = dividend // 2\n",
    "        dividend = quotient\n",
    "        result.append(remainder)\n",
    "    return result[::-1] # make big-Endian\n",
    "\n",
    "def binary_to_decimal(numInBin):\n",
    "    # repeated addition \n",
    "    result = 0\n",
    "    i = 0\n",
    "    for digit in reversed(numInBin):\n",
    "        result += digit * 2**i\n",
    "        i+= 1\n",
    "    return result\n",
    "\n",
    "unsigned_decimal_to_binary(4)"
   ]
  },
  {
   "cell_type": "markdown",
   "metadata": {},
   "source": [
    "## 5.2"
   ]
  },
  {
   "cell_type": "code",
   "execution_count": 23,
   "metadata": {},
   "outputs": [
    {
     "data": {
      "text/plain": [
       "'.10110000000000000000000000000000'"
      ]
     },
     "execution_count": 23,
     "metadata": {},
     "output_type": "execute_result"
    }
   ],
   "source": [
    "# only works if the number can be expressed as an exact sum of negative powers of two up to 32\n",
    "# i.e. some combination of: 2^-1 +...+ 2^-32\n",
    "def binary_to_string(num: float):\n",
    "    if num >= 1 or num <= 0:\n",
    "        return 'ERROR'\n",
    "    out = ['0'] * 32\n",
    "    calc_num = num\n",
    "    for i in range(1,33):\n",
    "        if calc_num - 2**(-i) == 0:\n",
    "            out[i-1] = '1'\n",
    "            return ('.' + ''.join(out))             \n",
    "        elif calc_num - 2**(-i) > 0:\n",
    "            calc_num -= 2**(-i)\n",
    "            out[i-1] = '1'\n",
    "    return 'ERROR'\n",
    "\n",
    "binary_to_string(0.6875)"
   ]
  },
  {
   "cell_type": "markdown",
   "metadata": {},
   "source": []
  },
  {
   "cell_type": "markdown",
   "metadata": {},
   "source": [
    "# Recursion and DP"
   ]
  },
  {
   "cell_type": "markdown",
   "metadata": {},
   "source": [
    "## 8.1"
   ]
  },
  {
   "cell_type": "code",
   "execution_count": 24,
   "metadata": {
    "scrolled": true
   },
   "outputs": [
    {
     "name": "stdout",
     "output_type": "stream",
     "text": [
      "0.0001 s\n",
      "3.8125 s\n"
     ]
    }
   ],
   "source": [
    "import time\n",
    "\n",
    "def tripleStep(n, memo=None):\n",
    "    if memo is None:\n",
    "        return tripleStep(n, [-1] * (n+1))\n",
    "    if n < 0:\n",
    "        return 0\n",
    "    if n == 0:\n",
    "        return 1\n",
    "    if memo[n] > -1:\n",
    "        return memo[n]\n",
    "    memo[n] = tripleStep(n-3, memo) + tripleStep(n-2, memo) + tripleStep(n-1, memo)\n",
    "    return memo[n]\n",
    "\n",
    "def tripleStepBad(n):\n",
    "    if n < 3:\n",
    "        return n\n",
    "    if n == 3:\n",
    "        return 4\n",
    "    return tripleStepBad(n-3) + tripleStepBad(n-2) + tripleStepBad(n-1)\n",
    "tick = time.time()\n",
    "tripleStep(30)\n",
    "tock = time.time()\n",
    "print('%.4f s' % (tock-tick))\n",
    "tick = time.time()\n",
    "tripleStepBad(30)\n",
    "tock = time.time()\n",
    "print('%.4f s' % (tock-tick))"
   ]
  },
  {
   "cell_type": "code",
   "execution_count": 19,
   "metadata": {},
   "outputs": [],
   "source": [
    "def getPath(maze, row=None, col=None, path=None):\n",
    "    if row == None or col == None or path == None:\n",
    "        if maze == None or len(maze) == 0:\n",
    "            return None\n",
    "        path = []\n",
    "        if getPath(maze, len(maze) -1, len(maze[0] -1), path):\n",
    "            return path\n",
    "        return None\n",
    "    else:\n",
    "        if col < 0 or row < 0 or not maze[row][col]:\n",
    "            return False\n",
    "        isAtOrigin = row == 0 and col == 0\n",
    "        if isAtOrigin or getPath(maze, row, col -1, path) or \\\n",
    "            getPath(maze, row -1, col, path):\n",
    "                p = (row,col)\n",
    "                path.append(p)\n",
    "                return True\n",
    "        return False\n",
    "    \n",
    "maze = [[True] * 3,[True] * 3,[True] * 3]\n",
    "for i in maze:\n",
    "    for j in maze:"
   ]
  }
 ],
 "metadata": {
  "kernelspec": {
   "display_name": "Python 3",
   "language": "python",
   "name": "python3"
  },
  "language_info": {
   "codemirror_mode": {
    "name": "ipython",
    "version": 3
   },
   "file_extension": ".py",
   "mimetype": "text/x-python",
   "name": "python",
   "nbconvert_exporter": "python",
   "pygments_lexer": "ipython3",
   "version": "3.7.3"
  }
 },
 "nbformat": 4,
 "nbformat_minor": 2
}
