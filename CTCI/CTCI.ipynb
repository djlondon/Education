{
 "cells": [
  {
   "cell_type": "markdown",
   "metadata": {},
   "source": [
    "# 1 Arrays and Strings"
   ]
  },
  {
   "cell_type": "markdown",
   "metadata": {},
   "source": [
    "## 1.1"
   ]
  },
  {
   "cell_type": "code",
   "execution_count": 20,
   "metadata": {},
   "outputs": [
    {
     "name": "stdout",
     "output_type": "stream",
     "text": [
      "False True True True\n"
     ]
    }
   ],
   "source": [
    "def isUnique(string):\n",
    "    seenChars = {}\n",
    "    for char in string:\n",
    "        if char in seenChars:\n",
    "            return False\n",
    "        seenChars[char] = 1\n",
    "    return True\n",
    "\n",
    "a = isUnique('cac')\n",
    "b = isUnique('car')\n",
    "c = isUnique('')\n",
    "d = isUnique('a')\n",
    "print(a, b, c, d)"
   ]
  },
  {
   "cell_type": "markdown",
   "metadata": {},
   "source": [
    "## 1.2"
   ]
  },
  {
   "cell_type": "code",
   "execution_count": 23,
   "metadata": {},
   "outputs": [
    {
     "name": "stdout",
     "output_type": "stream",
     "text": [
      "True True True False False True\n"
     ]
    }
   ],
   "source": [
    "def checkPerm(string1, string2):\n",
    "    if (len(string1) != len(string2)):\n",
    "        return False\n",
    "    characters = {}\n",
    "    for char in string1:\n",
    "        try:\n",
    "            characters[char] += 1\n",
    "        except:\n",
    "            characters[char] = 1\n",
    "        \n",
    "    for char in string2:\n",
    "        try:\n",
    "            if (characters[char] >= 1):\n",
    "                characters[char] -= 1\n",
    "        except:\n",
    "            return False\n",
    "    return True\n",
    "\n",
    "a = checkPerm('dog', 'dog')\n",
    "b = checkPerm('dog', 'god')\n",
    "c = checkPerm('', '')\n",
    "d = checkPerm('', 'a')\n",
    "e = checkPerm('cat', 'car')\n",
    "f = checkPerm('dod', 'dod')\n",
    "print(a, b, c, d, e, f)"
   ]
  },
  {
   "cell_type": "markdown",
   "metadata": {},
   "source": [
    "## 1.3"
   ]
  },
  {
   "cell_type": "code",
   "execution_count": 23,
   "metadata": {
    "scrolled": true
   },
   "outputs": [
    {
     "name": "stdout",
     "output_type": "stream",
     "text": [
      "M r % 2 0 J o h n % 2 0 S m i t h\n",
      "% 2 0 M r % 2 0 J o h n % 2 0 S m i t h\n",
      "M r % 2 0 J o h n % 2 0 S m i t h % 2 0\n"
     ]
    }
   ],
   "source": [
    "def URLify(string):\n",
    "    mapNoPrevSpaces = {}\n",
    "    noPrevSpaces = 0\n",
    "    finalIndex = len(string)-1\n",
    "    \n",
    "    for i in range(finalIndex+1):\n",
    "        mapNoPrevSpaces[i] = noPrevSpaces\n",
    "        if (string[i] == ' '):\n",
    "            noPrevSpaces+= 1\n",
    "            string.append(' ')\n",
    "            string.append(' ')\n",
    "    for i in range(finalIndex, 0, -1): \n",
    "        string[i+2*mapNoPrevSpaces[i]] = string[i]\n",
    "    for i, char in enumerate(string):\n",
    "        if (char == \" \"):\n",
    "            string[i] = \"%\"\n",
    "            string[i+1] = \"2\"\n",
    "            string[i+2] = \"0\"\n",
    "            \n",
    "string = ['M','r',' ','J','o','h','n',' ','S','m','i','t','h']\n",
    "string1 = [' ','M','r',' ','J','o','h','n',' ','S','m','i','t','h']\n",
    "string2 = ['M','r',' ','J','o','h','n',' ','S','m','i','t','h', ' ']\n",
    "URLify(string)\n",
    "URLify(string1)\n",
    "URLify(string2)\n",
    "\n",
    "print(*string)\n",
    "print(*string1)\n",
    "print(*string2)"
   ]
  },
  {
   "cell_type": "markdown",
   "metadata": {},
   "source": [
    "## 1.4"
   ]
  },
  {
   "cell_type": "code",
   "execution_count": 5,
   "metadata": {},
   "outputs": [
    {
     "name": "stdout",
     "output_type": "stream",
     "text": [
      "True True True False True\n"
     ]
    }
   ],
   "source": [
    "def palPerm(string):\n",
    "    characterTally = {}\n",
    "    for char in string:\n",
    "        if (char != \" \"):\n",
    "            try:\n",
    "                characterTally[char.lower()] += 1\n",
    "            except KeyError:\n",
    "                characterTally[char.lower()] = 1\n",
    "    noSingleChars = 0\n",
    "    for key in characterTally:\n",
    "        if characterTally[key] == 1:\n",
    "            noSingleChars += 1\n",
    "        if noSingleChars > 1:\n",
    "            return False\n",
    "    return True\n",
    "\n",
    "print(palPerm('Tact coa'), palPerm(''), palPerm('a'), palPerm('ab'), palPerm('ab a'))"
   ]
  },
  {
   "cell_type": "markdown",
   "metadata": {},
   "source": [
    "## 1.5"
   ]
  },
  {
   "cell_type": "code",
   "execution_count": 32,
   "metadata": {},
   "outputs": [
    {
     "name": "stdout",
     "output_type": "stream",
     "text": [
      "True True True False False\n"
     ]
    }
   ],
   "source": [
    "def countEdits(longstring, shortstring):\n",
    "    noEdits = 0\n",
    "    i = 0\n",
    "    j = 0\n",
    "    while (i < len(shortstring)):\n",
    "        skip = 0\n",
    "        if (longstring[j] != shortstring[i]):\n",
    "            if (longstring[j+1] == shortstring[i]):\n",
    "                skip = 1\n",
    "            noEdits+= 1\n",
    "        if noEdits > 1:\n",
    "            return False\n",
    "        i+= 1\n",
    "        j+= 1 + skip\n",
    "    return True\n",
    "        \n",
    "def oneAway(string1, string2):\n",
    "    delta = len(string1) - len(string2)\n",
    "    if abs(delta) > 1:\n",
    "        ret = False\n",
    "    elif (delta < 0):\n",
    "        ret = countEdits(string2, string1) \n",
    "    else:\n",
    "        ret = countEdits(string1, string2)\n",
    "    return ret\n",
    "        \n",
    "a = oneAway('pale', 'ple')\n",
    "b = oneAway('pales', 'pale')\n",
    "c = oneAway('pale', 'bale')\n",
    "d = oneAway('pale', 'bake')\n",
    "e = oneAway('pale', 'paless')\n",
    "print(a, b, c, d, e)"
   ]
  },
  {
   "cell_type": "markdown",
   "metadata": {},
   "source": [
    "## 1.6"
   ]
  },
  {
   "cell_type": "code",
   "execution_count": 19,
   "metadata": {},
   "outputs": [
    {
     "data": {
      "text/plain": [
       "'a3b2'"
      ]
     },
     "execution_count": 19,
     "metadata": {},
     "output_type": "execute_result"
    }
   ],
   "source": [
    "def stringComp(string):\n",
    "    newlist = []\n",
    "    i = 0\n",
    "    while i < len(string):\n",
    "        count = 0\n",
    "        while (string[i]==string[i+count]):\n",
    "            count+= 1\n",
    "            if (i+count>=len(string)):\n",
    "                break\n",
    "        newlist.append(string[i] + str(count))\n",
    "        i += count\n",
    "    newstring = ''.join(newlist)\n",
    "    if len(newstring) < len(string):\n",
    "        return newstring\n",
    "    return string\n",
    "\n",
    "stringComp('aabbbcc')\n",
    "stringComp('aabbbc')\n",
    "stringComp('aaa')\n",
    "stringComp('aaabb')"
   ]
  },
  {
   "cell_type": "markdown",
   "metadata": {},
   "source": [
    "## 1.7"
   ]
  },
  {
   "cell_type": "code",
   "execution_count": 5,
   "metadata": {},
   "outputs": [
    {
     "name": "stdout",
     "output_type": "stream",
     "text": [
      "[[7, 4, 1], [8, 5, 2], [9, 6, 3]]\n"
     ]
    }
   ],
   "source": [
    "matrix = [[1,2,3],[4,5,6],[7,8,9]]\n",
    "\n",
    "def rotateMatrix(matrix):\n",
    "    n = len(matrix)\n",
    "    for layer in range(n//2):\n",
    "        first = layer\n",
    "        last = n - 1 - layer\n",
    "        for i in range(first,last):\n",
    "            offset = i - first\n",
    "            top = matrix[first][i] # store top\n",
    "            matrix[first][i]=matrix[last-offset][first] # left->top\n",
    "            matrix[last-offset][first]=matrix[last][last-offset] #bottom->left\n",
    "            matrix[last][last-offset]=matrix[i][last] # right->bottom\n",
    "            matrix[i][last]= top # top->right\n",
    "    print(matrix)\n",
    "    \n",
    "rotateMatrix(matrix)"
   ]
  },
  {
   "cell_type": "markdown",
   "metadata": {},
   "source": [
    "## 1.8"
   ]
  },
  {
   "cell_type": "code",
   "execution_count": 26,
   "metadata": {},
   "outputs": [
    {
     "name": "stdout",
     "output_type": "stream",
     "text": [
      "[[1, 0], [3, 0], [0, 0]]\n",
      "[[0, 0, 0], [3, 0, 0], [0, 0, 0]]\n"
     ]
    }
   ],
   "source": [
    "def zeroMatrix(matrix):\n",
    "    n = len(matrix[0])\n",
    "    m = len(matrix)\n",
    "    zerorows = set()\n",
    "    zerocols = set()\n",
    "    for i in range(n):\n",
    "        for j in range(m):\n",
    "            if (matrix[j][i] == 0):\n",
    "                zerorows.add(i)\n",
    "                zerocols.add(j)\n",
    "    for p in zerorows:\n",
    "        for q in range(n):\n",
    "            matrix[q][p] = 0\n",
    "    for p in zerocols:\n",
    "        for q in range(n):\n",
    "            matrix[p][q] = 0\n",
    "    print(matrix)\n",
    "            \n",
    "matrix1 = [[1,2],[3,4],[5,0]]            \n",
    "zeroMatrix(matrix1)\n",
    "\n",
    "matrix2 = [[1,2,0],[3,4,3],[5,0,0]]            \n",
    "zeroMatrix(matrix2)"
   ]
  },
  {
   "cell_type": "markdown",
   "metadata": {},
   "source": [
    "## 1.9"
   ]
  },
  {
   "cell_type": "code",
   "execution_count": 18,
   "metadata": {},
   "outputs": [
    {
     "name": "stdout",
     "output_type": "stream",
     "text": [
      "True False True\n"
     ]
    }
   ],
   "source": [
    "def isSubstring(s1, s2):\n",
    "    if s1 in s2:\n",
    "        return True\n",
    "    if s2 in s1:\n",
    "        return True\n",
    "    return False\n",
    "\n",
    "def isStringRotation(s1, s2):\n",
    "    if len(s1) != len(s2):\n",
    "        return False\n",
    "    s1 += s1\n",
    "    return isSubstring(s1, s2)\n",
    "    \n",
    "a = isStringRotation(\"waterbottle\", \"erbottlewat\")\n",
    "b = isStringRotation(\"dog\", \"god\")\n",
    "c = isStringRotation(\"waterbottle\", \"waterbottle\")\n",
    "\n",
    "print(a, b, c)"
   ]
  },
  {
   "cell_type": "markdown",
   "metadata": {},
   "source": [
    "# 2 Linked Lists"
   ]
  },
  {
   "cell_type": "markdown",
   "metadata": {},
   "source": [
    "This is the class we use for these problems. Since, the solutions are provided in seperate blocks, the slightly hacky `setattr()` method is used to turn these procedures into methods for the Node class."
   ]
  },
  {
   "cell_type": "code",
   "execution_count": 1,
   "metadata": {},
   "outputs": [],
   "source": [
    "class Node:\n",
    "    def __init__(self,val):\n",
    "        self.val = val\n",
    "        self.next = None\n",
    "    def append(self, d):\n",
    "        end = Node(d)\n",
    "        n = self\n",
    "        while (n.next != None):\n",
    "            n = n.next\n",
    "        n.next = end\n",
    "    def traverse(self):\n",
    "        node = self\n",
    "        vals = []\n",
    "        while node != None:\n",
    "            vals.append(node.val)\n",
    "#             print(node.val, end= ',')\n",
    "            node = node.next\n",
    "        return vals"
   ]
  },
  {
   "cell_type": "markdown",
   "metadata": {},
   "source": [
    "## 2.1"
   ]
  },
  {
   "cell_type": "code",
   "execution_count": 18,
   "metadata": {},
   "outputs": [
    {
     "name": "stdout",
     "output_type": "stream",
     "text": [
      "[3, 5, 2, 3, 2, 5, 2]\n",
      "\n",
      "\n",
      "[3, 5, 2]\n"
     ]
    }
   ],
   "source": [
    "def deleteDuplicates(self):\n",
    "    current = self\n",
    "    prev = self\n",
    "    values = set()\n",
    "    while (prev.next != None):\n",
    "        if current.val in values:\n",
    "            prev.next = current.next\n",
    "            current = prev.next\n",
    "        else:\n",
    "            values.add(current.val)\n",
    "            prev = current\n",
    "            current = current.next\n",
    "\n",
    "setattr(Node, 'deleteDuplicates', deleteDuplicates)\n",
    "\n",
    "# Fix\n",
    "def deleteDuplicatesNoBuffer(self):\n",
    "    current = self\n",
    "    compare = self\n",
    "    while (current.next != None):\n",
    "        while (compare.next != None):\n",
    "            while (compare.next.val == current.val):\n",
    "                compare.next = compare.next.next\n",
    "            compare = compare.next\n",
    "        current = current.next\n",
    "        compare = current\n",
    "\n",
    "setattr(Node, 'deleteDuplicatesNoBuffer', deleteDuplicatesNoBuffer)\n",
    "\n",
    "list = Node(3)\n",
    "list.append(5)\n",
    "list.append(2)\n",
    "list.append(3)\n",
    "list.append(2)\n",
    "list.append(5)\n",
    "list.append(2)\n",
    "\n",
    "print(list.traverse())\n",
    "print (\"\\n\")\n",
    "list.deleteDuplicates()\n",
    "print(list.traverse())"
   ]
  },
  {
   "cell_type": "markdown",
   "metadata": {},
   "source": [
    "## 2.2"
   ]
  },
  {
   "cell_type": "code",
   "execution_count": 3,
   "metadata": {},
   "outputs": [
    {
     "name": "stdout",
     "output_type": "stream",
     "text": [
      "[0, 1, 2, 3, 4, 5, 6]\n"
     ]
    },
    {
     "data": {
      "text/plain": [
       "[3, 4, 5, 6]"
      ]
     },
     "execution_count": 3,
     "metadata": {},
     "output_type": "execute_result"
    }
   ],
   "source": [
    "list = Node(0)\n",
    "list.append(1)\n",
    "list.append(2)\n",
    "list.append(3)\n",
    "list.append(4)\n",
    "list.append(5)\n",
    "list.append(6)\n",
    "\n",
    "def kthToLast(self, k):\n",
    "    current = self\n",
    "    i=0\n",
    "    while (i < k):\n",
    "        if current.next == None:\n",
    "            return None\n",
    "        current = current.next\n",
    "        i+= 1\n",
    "    return current.traverse()\n",
    "\n",
    "setattr(Node, 'kthToLast', kthToLast)\n",
    "\n",
    "print(list.traverse())\n",
    "list.kthToLast(3)"
   ]
  },
  {
   "cell_type": "markdown",
   "metadata": {},
   "source": [
    "## 2.3"
   ]
  },
  {
   "cell_type": "code",
   "execution_count": 13,
   "metadata": {},
   "outputs": [
    {
     "data": {
      "text/plain": [
       "[0, 1, 3, 4, 5, 6]"
      ]
     },
     "execution_count": 13,
     "metadata": {},
     "output_type": "execute_result"
    }
   ],
   "source": [
    "def deleteMiddleNode(node):\n",
    "    while node.next != None:\n",
    "        node.val = node.next.val\n",
    "        if node.next.next != None:\n",
    "            node = node.next\n",
    "        else:   \n",
    "            break\n",
    "    node.next = None\n",
    "    \n",
    "list = Node(0)\n",
    "list.append(1)\n",
    "list.append(2)\n",
    "list.append(3)\n",
    "list.append(4)\n",
    "list.append(5)\n",
    "list.append(6)\n",
    "\n",
    "node = list.next.next #s 2\n",
    "deleteMiddleNode(node)\n",
    "list.traverse()"
   ]
  },
  {
   "cell_type": "markdown",
   "metadata": {},
   "source": [
    "## 2.4"
   ]
  },
  {
   "cell_type": "code",
   "execution_count": 23,
   "metadata": {},
   "outputs": [
    {
     "name": "stdout",
     "output_type": "stream",
     "text": [
      "[3, 5, 8, 5, 10, 2, 1]\n"
     ]
    }
   ],
   "source": [
    "def partition(self, partition):\n",
    "#     node = self\n",
    "#     lessthan = None\n",
    "#     greaterthan = None\n",
    "#     while (True):\n",
    "#         if node.val < partition:\n",
    "#             try: \n",
    "#                 lessthan.append(node.val)\n",
    "#             except: \n",
    "#                 lessthan = Node(node.val)\n",
    "#         else:\n",
    "#             try: \n",
    "#                 greaterthan.append(node.val)\n",
    "#             except: \n",
    "#                 greaterthan = Node(node.val)\n",
    "#         if node.next == None:\n",
    "#             break\n",
    "#         node = node.next\n",
    "#     lessthan.next = greaterthan\n",
    "#     node = lessthan\n",
    "\n",
    "setattr(Node, 'partition', partition)\n",
    "\n",
    "list = Node(3)\n",
    "list.append(5)\n",
    "list.append(8)\n",
    "list.append(5)\n",
    "list.append(10)\n",
    "list.append(2)\n",
    "list.append(1)\n",
    "\n"
   ]
  },
  {
   "cell_type": "markdown",
   "metadata": {},
   "source": []
  },
  {
   "cell_type": "code",
   "execution_count": null,
   "metadata": {},
   "outputs": [],
   "source": []
  }
 ],
 "metadata": {
  "kernelspec": {
   "display_name": "Python 3",
   "language": "python",
   "name": "python3"
  },
  "language_info": {
   "codemirror_mode": {
    "name": "ipython",
    "version": 3
   },
   "file_extension": ".py",
   "mimetype": "text/x-python",
   "name": "python",
   "nbconvert_exporter": "python",
   "pygments_lexer": "ipython3",
   "version": "3.7.3"
  }
 },
 "nbformat": 4,
 "nbformat_minor": 2
}
